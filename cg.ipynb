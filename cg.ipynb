{
  "nbformat": 4,
  "nbformat_minor": 0,
  "metadata": {
    "colab": {
      "provenance": [],
      "authorship_tag": "ABX9TyNQD+eLpaPjA+NXOWsj4TDN",
      "include_colab_link": true
    },
    "kernelspec": {
      "name": "python3",
      "display_name": "Python 3"
    },
    "language_info": {
      "name": "python"
    }
  },
  "cells": [
    {
      "cell_type": "markdown",
      "metadata": {
        "id": "view-in-github",
        "colab_type": "text"
      },
      "source": [
        "<a href=\"https://colab.research.google.com/github/sriharshithavanam/AIchabot-simulation/blob/main/chatgpt.ipynb\" target=\"_parent\"><img src=\"https://colab.research.google.com/assets/colab-badge.svg\" alt=\"Open In Colab\"/></a>"
      ]
    },
    {
      "cell_type": "code",
      "execution_count": null,
      "metadata": {
        "colab": {
          "base_uri": "https://localhost:8080/"
        },
        "id": "iXSJncAvBhZW",
        "outputId": "0ae98405-3df0-4431-b7c8-0983ef04e175"
      },
      "outputs": [
        {
          "output_type": "stream",
          "name": "stdout",
          "text": [
            "Collecting next-word-prediction\n",
            "  Downloading next_word_prediction-0.2.0-py3-none-any.whl (3.4 kB)\n",
            "Collecting pytorch_transformers\n",
            "  Downloading pytorch_transformers-1.2.0-py3-none-any.whl (176 kB)\n",
            "\u001b[2K     \u001b[90m━━━━━━━━━━━━━━━━━━━━━━━━━━━━━━━━━━━━━━━━\u001b[0m \u001b[32m176.4/176.4 kB\u001b[0m \u001b[31m3.3 MB/s\u001b[0m eta \u001b[36m0:00:00\u001b[0m\n",
            "\u001b[?25hRequirement already satisfied: torch>=1.0.0 in /usr/local/lib/python3.10/dist-packages (from pytorch_transformers) (2.1.0+cu121)\n",
            "Requirement already satisfied: numpy in /usr/local/lib/python3.10/dist-packages (from pytorch_transformers) (1.23.5)\n",
            "Collecting boto3 (from pytorch_transformers)\n",
            "  Downloading boto3-1.34.31-py3-none-any.whl (139 kB)\n",
            "\u001b[2K     \u001b[90m━━━━━━━━━━━━━━━━━━━━━━━━━━━━━━━━━━━━━━━━\u001b[0m \u001b[32m139.3/139.3 kB\u001b[0m \u001b[31m3.9 MB/s\u001b[0m eta \u001b[36m0:00:00\u001b[0m\n",
            "\u001b[?25hRequirement already satisfied: requests in /usr/local/lib/python3.10/dist-packages (from pytorch_transformers) (2.31.0)\n",
            "Requirement already satisfied: tqdm in /usr/local/lib/python3.10/dist-packages (from pytorch_transformers) (4.66.1)\n",
            "Requirement already satisfied: regex in /usr/local/lib/python3.10/dist-packages (from pytorch_transformers) (2023.6.3)\n",
            "Requirement already satisfied: sentencepiece in /usr/local/lib/python3.10/dist-packages (from pytorch_transformers) (0.1.99)\n",
            "Collecting sacremoses (from pytorch_transformers)\n",
            "  Downloading sacremoses-0.1.1-py3-none-any.whl (897 kB)\n",
            "\u001b[2K     \u001b[90m━━━━━━━━━━━━━━━━━━━━━━━━━━━━━━━━━━━━━━━━\u001b[0m \u001b[32m897.5/897.5 kB\u001b[0m \u001b[31m9.8 MB/s\u001b[0m eta \u001b[36m0:00:00\u001b[0m\n",
            "\u001b[?25hRequirement already satisfied: filelock in /usr/local/lib/python3.10/dist-packages (from torch>=1.0.0->pytorch_transformers) (3.13.1)\n",
            "Requirement already satisfied: typing-extensions in /usr/local/lib/python3.10/dist-packages (from torch>=1.0.0->pytorch_transformers) (4.5.0)\n",
            "Requirement already satisfied: sympy in /usr/local/lib/python3.10/dist-packages (from torch>=1.0.0->pytorch_transformers) (1.12)\n",
            "Requirement already satisfied: networkx in /usr/local/lib/python3.10/dist-packages (from torch>=1.0.0->pytorch_transformers) (3.2.1)\n",
            "Requirement already satisfied: jinja2 in /usr/local/lib/python3.10/dist-packages (from torch>=1.0.0->pytorch_transformers) (3.1.3)\n",
            "Requirement already satisfied: fsspec in /usr/local/lib/python3.10/dist-packages (from torch>=1.0.0->pytorch_transformers) (2023.6.0)\n",
            "Requirement already satisfied: triton==2.1.0 in /usr/local/lib/python3.10/dist-packages (from torch>=1.0.0->pytorch_transformers) (2.1.0)\n",
            "Collecting botocore<1.35.0,>=1.34.31 (from boto3->pytorch_transformers)\n",
            "  Downloading botocore-1.34.31-py3-none-any.whl (11.9 MB)\n",
            "\u001b[2K     \u001b[90m━━━━━━━━━━━━━━━━━━━━━━━━━━━━━━━━━━━━━━━━\u001b[0m \u001b[32m11.9/11.9 MB\u001b[0m \u001b[31m34.9 MB/s\u001b[0m eta \u001b[36m0:00:00\u001b[0m\n",
            "\u001b[?25hCollecting jmespath<2.0.0,>=0.7.1 (from boto3->pytorch_transformers)\n",
            "  Downloading jmespath-1.0.1-py3-none-any.whl (20 kB)\n",
            "Collecting s3transfer<0.11.0,>=0.10.0 (from boto3->pytorch_transformers)\n",
            "  Downloading s3transfer-0.10.0-py3-none-any.whl (82 kB)\n",
            "\u001b[2K     \u001b[90m━━━━━━━━━━━━━━━━━━━━━━━━━━━━━━━━━━━━━━━━\u001b[0m \u001b[32m82.1/82.1 kB\u001b[0m \u001b[31m6.8 MB/s\u001b[0m eta \u001b[36m0:00:00\u001b[0m\n",
            "\u001b[?25hRequirement already satisfied: charset-normalizer<4,>=2 in /usr/local/lib/python3.10/dist-packages (from requests->pytorch_transformers) (3.3.2)\n",
            "Requirement already satisfied: idna<4,>=2.5 in /usr/local/lib/python3.10/dist-packages (from requests->pytorch_transformers) (3.6)\n",
            "Requirement already satisfied: urllib3<3,>=1.21.1 in /usr/local/lib/python3.10/dist-packages (from requests->pytorch_transformers) (2.0.7)\n",
            "Requirement already satisfied: certifi>=2017.4.17 in /usr/local/lib/python3.10/dist-packages (from requests->pytorch_transformers) (2023.11.17)\n",
            "Requirement already satisfied: click in /usr/local/lib/python3.10/dist-packages (from sacremoses->pytorch_transformers) (8.1.7)\n",
            "Requirement already satisfied: joblib in /usr/local/lib/python3.10/dist-packages (from sacremoses->pytorch_transformers) (1.3.2)\n",
            "Requirement already satisfied: python-dateutil<3.0.0,>=2.1 in /usr/local/lib/python3.10/dist-packages (from botocore<1.35.0,>=1.34.31->boto3->pytorch_transformers) (2.8.2)\n",
            "Requirement already satisfied: MarkupSafe>=2.0 in /usr/local/lib/python3.10/dist-packages (from jinja2->torch>=1.0.0->pytorch_transformers) (2.1.4)\n",
            "Requirement already satisfied: mpmath>=0.19 in /usr/local/lib/python3.10/dist-packages (from sympy->torch>=1.0.0->pytorch_transformers) (1.3.0)\n",
            "Requirement already satisfied: six>=1.5 in /usr/local/lib/python3.10/dist-packages (from python-dateutil<3.0.0,>=2.1->botocore<1.35.0,>=1.34.31->boto3->pytorch_transformers) (1.16.0)\n",
            "Installing collected packages: next-word-prediction, sacremoses, jmespath, botocore, s3transfer, boto3, pytorch_transformers\n",
            "Successfully installed boto3-1.34.31 botocore-1.34.31 jmespath-1.0.1 next-word-prediction-0.2.0 pytorch_transformers-1.2.0 s3transfer-0.10.0 sacremoses-0.1.1\n"
          ]
        }
      ],
      "source": [
        "!pip install next-word-prediction pytorch_transformers"
      ]
    },
    {
      "cell_type": "code",
      "source": [
        "from next_word_prediction import GPT2\n",
        "data=\"I am eating\"\n",
        "s=GPT2()\n",
        "s.predict_next(data,10)"
      ],
      "metadata": {
        "id": "6h8H2iWNBiYs"
      },
      "execution_count": null,
      "outputs": []
    },
    {
      "cell_type": "code",
      "source": [
        "from next_word_prediction import GPT2\n",
        "f1=open(\"Hello.txt\",\"w\")\n",
        "data=\"I am eating\"\n",
        "s=GPT2()\n",
        "demo=s.predict_next(data,10)\n",
        "for i in demo:\n",
        "  print(data,i,\"\\n\")\n",
        "f1.close()"
      ],
      "metadata": {
        "id": "A0ARiHzXBmuZ"
      },
      "execution_count": null,
      "outputs": []
    },
    {
      "cell_type": "code",
      "source": [
        "!pip install pytorch_transformers"
      ],
      "metadata": {
        "id": "dy8qVz3OBore"
      },
      "execution_count": null,
      "outputs": []
    },
    {
      "cell_type": "code",
      "source": [
        "import torch\n",
        "from pytorch_transformers import GPT2Tokenizer,GPT2LMHeadModel\n",
        "data=\"Where were you\"\n",
        "tokenizer=GPT2Tokenizer.from_pretrained(\"gpt2\")\n",
        "index_token=tokenizer.encode(data)\n",
        "tokens_tensor=torch.tensor([index_token])\n",
        "tokens_tensor"
      ],
      "metadata": {
        "id": "qnbtfGKHBsKe"
      },
      "execution_count": null,
      "outputs": []
    },
    {
      "cell_type": "code",
      "source": [
        "import torch\n",
        "from pytorch_transformers import GPT2Tokenizer,GPT2LMHeadModel\n",
        "data=\"An Apple a day keeps the doctor away\"\n",
        "tokenizer=GPT2Tokenizer.from_pretrained(\"gpt2\")\n",
        "index_token=tokenizer.encode(data)\n",
        "tokens_tensor=torch.tensor([index_token])\n",
        "tokens_tensor"
      ],
      "metadata": {
        "id": "Bd5lwVpFBtVZ"
      },
      "execution_count": null,
      "outputs": []
    },
    {
      "cell_type": "code",
      "source": [
        "model=GPT2LMHeadModel.from_pretrained(\"gpt2\")\n",
        "model.eval()\n"
      ],
      "metadata": {
        "id": "cNPA7eOFBuy5"
      },
      "execution_count": null,
      "outputs": []
    },
    {
      "cell_type": "code",
      "source": [
        "tokens_tensor=tokens_tensor.to(\"cuda\")\n",
        "model.to(\"cuda\")"
      ],
      "metadata": {
        "id": "pF0mEpfzBxh5"
      },
      "execution_count": null,
      "outputs": []
    },
    {
      "cell_type": "code",
      "source": [
        "with torch.no_grad():\n",
        "  output=model(tokens_tensor)\n",
        "  #above output is kept in a model and storing the output in a var\n",
        "prediction=output[0]\n",
        "prediction"
      ],
      "metadata": {
        "id": "HMxe_9RHBzWX"
      },
      "execution_count": null,
      "outputs": []
    },
    {
      "cell_type": "code",
      "source": [
        "pi=torch.argmax(prediction[0,-1,:]).item()\n",
        "pt=tokenizer.decode(index_token+[pi])\n",
        "pt"
      ],
      "metadata": {
        "id": "zwVDZH1EB0wK"
      },
      "execution_count": null,
      "outputs": []
    },
    {
      "cell_type": "code",
      "source": [
        "#chatgpt using python\n",
        "#install the module of chatgpt\n",
        "!pip install openai"
      ],
      "metadata": {
        "id": "yTt79RJmCEvo"
      },
      "execution_count": null,
      "outputs": []
    },
    {
      "cell_type": "code",
      "source": [
        "import openai\n",
        "openai.api_key=\"key\"\n",
        "messages=[{\"role\":\"system\",\"content\":\"hi I am going to assist you today.\"}]\n",
        "while True:\n",
        "  message=input(\"sri:\")\n",
        "  if message==\"bye\":\n",
        "    break\n",
        "  else:\n",
        "    messages.append({\"role\":\"user\",\"content\":message},)\n",
        "    chat=openai.ChatCompletion.create(model=\"gpt-3.5-turbo\",messages=messages)\n",
        "  reply=chat.choices[0].message.content\n",
        "  print(f\"chatgpt:{reply}\")\n",
        "  messages.append({\"role\":\"assistant\",\"content\":\"reply\"})\n"
      ],
      "metadata": {
        "id": "buJ5URQSCG1x"
      },
      "execution_count": null,
      "outputs": []
    },
    {
      "cell_type": "code",
      "source": [
        "!pip install openai==0.28"
      ],
      "metadata": {
        "id": "p3YwfkfrCSRS"
      },
      "execution_count": null,
      "outputs": []
    },
    {
      "cell_type": "code",
      "source": [
        "!pip install Async"
      ],
      "metadata": {
        "id": "MFNGyOzoCS51"
      },
      "execution_count": null,
      "outputs": []
    },
    {
      "cell_type": "code",
      "source": [
        "!pip install diffusers transformers accelerate torch"
      ],
      "metadata": {
        "id": "EXHgiVOqCUTu"
      },
      "execution_count": null,
      "outputs": []
    },
    {
      "cell_type": "code",
      "source": [
        "#torch is a module for deep learning to convert text to video\n",
        "import torch\n",
        "from diffusers import DiffusionPipeline,DPMSolverMultistepScheduler\n",
        "from diffusers.utils import export_to_video\n",
        "pipe=DiffusionPipeline.from_pretrained(\"damo-vilab/text-to-video-ms-1.7b\",torch_dtype=torch.float16,variant=\"fp16\")\n",
        "pipe.scheduler=DPMSolverMultistepScheduler.from_config(pipe.scheduler.config)\n",
        "pipe.enable_model_cpu_offload()"
      ],
      "metadata": {
        "id": "jPi2nxoDCe-P"
      },
      "execution_count": null,
      "outputs": []
    },
    {
      "cell_type": "code",
      "source": [
        "#now loading text into my model\n",
        "prompt=\"Spidrman is dancing\"\n",
        "video_frame=pipe(prompt,num_inference_steps=50).frames\n",
        "video_path=export_to_video(video_frame)\n"
      ],
      "metadata": {
        "id": "IFTdGu3KCcJB"
      },
      "execution_count": null,
      "outputs": []
    },
    {
      "cell_type": "code",
      "source": [
        "video_path"
      ],
      "metadata": {
        "id": "1grZIIa9CXwk"
      },
      "execution_count": null,
      "outputs": []
    }
  ]
}
